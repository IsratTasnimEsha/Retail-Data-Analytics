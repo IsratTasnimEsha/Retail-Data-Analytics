{
 "cells": [
  {
   "cell_type": "code",
   "execution_count": 1,
   "id": "e8bfc47d",
   "metadata": {},
   "outputs": [],
   "source": [
    "import pandas as pd\n",
    "import os\n",
    "import csv\n",
    "from sklearn.model_selection import train_test_split\n",
    "from sklearn.neural_network import MLPRegressor\n",
    "\n",
    "os.chdir('Resources/')\n",
    "\n",
    "import warnings\n",
    "warnings.filterwarnings(\"ignore\")"
   ]
  },
  {
   "cell_type": "code",
   "execution_count": 2,
   "id": "c666a600",
   "metadata": {},
   "outputs": [],
   "source": [
    "def reset_seeds(seed=42):\n",
    "    import os\n",
    "    import random\n",
    "    import numpy as np\n",
    "    import tensorflow as tf\n",
    "    import torch\n",
    "    import torch.backends.cudnn as cudnn\n",
    "\n",
    "    os.environ['PYTHONHASHSEED'] = str(seed)\n",
    "    os.environ['TF_DETERMINISTIC_OPS'] = '1'\n",
    "    os.environ[\"CUDA_VISIBLE_DEVICES\"] = \"-1\"\n",
    "\n",
    "    random.seed(seed)\n",
    "    np.random.seed(seed)\n",
    "    tf.random.set_seed(seed)\n",
    "    torch.manual_seed(seed)\n",
    "    cudnn.deterministic = True\n",
    "    cudnn.benchmark = False\n",
    "    \n",
    "def preprocess_dataset(df, seed=42):\n",
    "    reset_seeds()\n",
    "\n",
    "    df.rename(columns={\n",
    "        \"Store\": \"Plant_ID\",\n",
    "        \"Dept\": \"Machine_Type\",\n",
    "        \"Weekly_Sales\": \"Weekly_Production\",\n",
    "        \"IsHoliday\": \"Quality_Audit\",\n",
    "        \"Year\": \"Year\",\n",
    "        \"Month\": \"Month\",\n",
    "        \"Week\": \"Week\"\n",
    "    }, inplace=True)\n",
    "\n",
    "    X = df[['Plant_ID', 'Machine_Type', 'Quality_Audit', 'Year', 'Month', 'Week']].values\n",
    "    y = df['Weekly_Production'].values\n",
    "\n",
    "    X_train, X_test, y_train, y_test = train_test_split(X, y, test_size=0.2, random_state=seed)\n",
    "    \n",
    "    mlp_model = MLPRegressor(\n",
    "        hidden_layer_sizes=(100, 50),\n",
    "        activation='relu',\n",
    "        solver='adam',\n",
    "        max_iter=50,\n",
    "        random_state=42\n",
    "    )\n",
    "\n",
    "    mlp_model.fit(X_train, y_train)\n",
    "    predicted_sales = mlp_model.predict(X)\n",
    "\n",
    "    columns = ['Plant_ID', 'Machine_Type', 'Quality_Audit', 'Year', 'Month', 'Week']\n",
    "\n",
    "    df = pd.DataFrame(X, columns=columns)\n",
    "    df[\"Weekly_Production\"] = predicted_sales.astype(int)\n",
    "\n",
    "    return df"
   ]
  },
  {
   "cell_type": "code",
   "execution_count": 3,
   "id": "fe755a69",
   "metadata": {},
   "outputs": [],
   "source": [
    "clients = list(range(1, 10))\n",
    "\n",
    "for client in clients:\n",
    "    df = pd.read_csv(f\"1_Client_{client}_Data.csv\")\n",
    "    df = preprocess_dataset(df) \n",
    "\n",
    "    grouped = df.groupby(['Year', 'Month'])\n",
    "\n",
    "    for (year, month), group in grouped:\n",
    "        filename = f\"2_{client}_Client_Data_{year}_{month}.csv\"\n",
    "        group.to_csv(filename, index=False)"
   ]
  },
  {
   "cell_type": "code",
   "execution_count": null,
   "id": "6a958c3c",
   "metadata": {},
   "outputs": [],
   "source": []
  }
 ],
 "metadata": {
  "kernelspec": {
   "display_name": "Python 3",
   "language": "python",
   "name": "python3"
  },
  "language_info": {
   "codemirror_mode": {
    "name": "ipython",
    "version": 3
   },
   "file_extension": ".py",
   "mimetype": "text/x-python",
   "name": "python",
   "nbconvert_exporter": "python",
   "pygments_lexer": "ipython3",
   "version": "3.12.3"
  }
 },
 "nbformat": 4,
 "nbformat_minor": 5
}
